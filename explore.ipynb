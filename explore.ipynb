{
 "cells": [
  {
   "cell_type": "code",
   "execution_count": 16,
   "source": [
    "import pandas as pd\n",
    "pd.set_option('display.max_colwidth', -1)"
   ],
   "outputs": [
    {
     "output_type": "stream",
     "name": "stderr",
     "text": [
      "/tmp/ipykernel_3987013/2845507759.py:2: FutureWarning: Passing a negative integer is deprecated in version 1.0 and will not be supported in future version. Instead, use None to not limit the column width.\n",
      "  pd.set_option('display.max_colwidth', -1)\n"
     ]
    }
   ],
   "metadata": {}
  },
  {
   "cell_type": "code",
   "execution_count": 4,
   "source": [
    "d = pd.read_parquet('data/raw/data_2022.parquet')"
   ],
   "outputs": [],
   "metadata": {}
  },
  {
   "cell_type": "code",
   "execution_count": 5,
   "source": [
    "d.columns"
   ],
   "outputs": [
    {
     "output_type": "execute_result",
     "data": {
      "text/plain": [
       "Index(['platform', 'account', 'text', 'url', 'date', 'action'], dtype='object')"
      ]
     },
     "metadata": {},
     "execution_count": 5
    }
   ],
   "metadata": {}
  },
  {
   "cell_type": "code",
   "execution_count": 6,
   "source": [
    "d.head()"
   ],
   "outputs": [
    {
     "output_type": "execute_result",
     "data": {
      "text/plain": [
       "   platform           account  \\\n",
       "0  facebook  page: dr nyheder   \n",
       "1  facebook  page: dr nyheder   \n",
       "2  facebook  page: dr nyheder   \n",
       "3  facebook  page: dr nyheder   \n",
       "4  facebook  page: dr nyheder   \n",
       "\n",
       "                                                text   url  \\\n",
       "0                                 Fatma Kücük Öztürk  None   \n",
       "1  Bente Jørgensen godt vi ikke lærte det da vi g...  None   \n",
       "2  Når man har læst om, hvad Bolsenaro har udtalt...  None   \n",
       "3  Bente Kristoffersen det beklager jeg så. Der h...  None   \n",
       "4                       Mohammad Askar Og bedetæpper  None   \n",
       "\n",
       "                  date action  \n",
       "0  2021-03-06 00:00:00   None  \n",
       "1  2021-03-06 00:00:00   None  \n",
       "2  2021-03-06 00:00:00   None  \n",
       "3  2021-03-06 00:00:00   None  \n",
       "4  2021-03-06 00:00:00   None  "
      ],
      "text/html": [
       "<div>\n",
       "<style scoped>\n",
       "    .dataframe tbody tr th:only-of-type {\n",
       "        vertical-align: middle;\n",
       "    }\n",
       "\n",
       "    .dataframe tbody tr th {\n",
       "        vertical-align: top;\n",
       "    }\n",
       "\n",
       "    .dataframe thead th {\n",
       "        text-align: right;\n",
       "    }\n",
       "</style>\n",
       "<table border=\"1\" class=\"dataframe\">\n",
       "  <thead>\n",
       "    <tr style=\"text-align: right;\">\n",
       "      <th></th>\n",
       "      <th>platform</th>\n",
       "      <th>account</th>\n",
       "      <th>text</th>\n",
       "      <th>url</th>\n",
       "      <th>date</th>\n",
       "      <th>action</th>\n",
       "    </tr>\n",
       "  </thead>\n",
       "  <tbody>\n",
       "    <tr>\n",
       "      <th>0</th>\n",
       "      <td>facebook</td>\n",
       "      <td>page: dr nyheder</td>\n",
       "      <td>Fatma Kücük Öztürk</td>\n",
       "      <td>None</td>\n",
       "      <td>2021-03-06 00:00:00</td>\n",
       "      <td>None</td>\n",
       "    </tr>\n",
       "    <tr>\n",
       "      <th>1</th>\n",
       "      <td>facebook</td>\n",
       "      <td>page: dr nyheder</td>\n",
       "      <td>Bente Jørgensen godt vi ikke lærte det da vi g...</td>\n",
       "      <td>None</td>\n",
       "      <td>2021-03-06 00:00:00</td>\n",
       "      <td>None</td>\n",
       "    </tr>\n",
       "    <tr>\n",
       "      <th>2</th>\n",
       "      <td>facebook</td>\n",
       "      <td>page: dr nyheder</td>\n",
       "      <td>Når man har læst om, hvad Bolsenaro har udtalt...</td>\n",
       "      <td>None</td>\n",
       "      <td>2021-03-06 00:00:00</td>\n",
       "      <td>None</td>\n",
       "    </tr>\n",
       "    <tr>\n",
       "      <th>3</th>\n",
       "      <td>facebook</td>\n",
       "      <td>page: dr nyheder</td>\n",
       "      <td>Bente Kristoffersen det beklager jeg så. Der h...</td>\n",
       "      <td>None</td>\n",
       "      <td>2021-03-06 00:00:00</td>\n",
       "      <td>None</td>\n",
       "    </tr>\n",
       "    <tr>\n",
       "      <th>4</th>\n",
       "      <td>facebook</td>\n",
       "      <td>page: dr nyheder</td>\n",
       "      <td>Mohammad Askar Og bedetæpper</td>\n",
       "      <td>None</td>\n",
       "      <td>2021-03-06 00:00:00</td>\n",
       "      <td>None</td>\n",
       "    </tr>\n",
       "  </tbody>\n",
       "</table>\n",
       "</div>"
      ]
     },
     "metadata": {},
     "execution_count": 6
    }
   ],
   "metadata": {}
  },
  {
   "cell_type": "code",
   "execution_count": 9,
   "source": [
    "d[\"date\"] = d[\"date\"].astype(\"datetime64\")\n",
    "d['date'].groupby([d[\"date\"].dt.year, d[\"date\"].dt.month]).count().plot(kind=\"bar\")\n"
   ],
   "outputs": [
    {
     "output_type": "execute_result",
     "data": {
      "text/plain": [
       "<AxesSubplot:xlabel='date,date'>"
      ]
     },
     "metadata": {},
     "execution_count": 9
    },
    {
     "output_type": "display_data",
     "data": {
      "text/plain": [
       "<Figure size 432x288 with 1 Axes>"
      ],
      "image/png": "[encoded data removed]"
     },
     "metadata": {
      "needs_background": "light"
     }
    }
   ],
   "metadata": {}
  },
  {
   "cell_type": "code",
   "execution_count": 11,
   "source": [
    "d['action'].value_counts().plot(kind='bar')"
   ],
   "outputs": [
    {
     "output_type": "execute_result",
     "data": {
      "text/plain": [
       "<AxesSubplot:>"
      ]
     },
     "metadata": {},
     "execution_count": 11
    },
    {
     "output_type": "display_data",
     "data": {
      "text/plain": [
       "<Figure size 432x288 with 1 Axes>"
      ],
      "image/png": "[encoded data removed]"
     },
     "metadata": {
      "needs_background": "light"
     }
    }
   ],
   "metadata": {}
  },
  {
   "cell_type": "code",
   "execution_count": 12,
   "source": [
    "d[['date','action']].groupby([d[\"date\"].dt.year, d[\"date\"].dt.month]).count().plot(kind=\"bar\")\n"
   ],
   "outputs": [
    {
     "output_type": "execute_result",
     "data": {
      "text/plain": [
       "<AxesSubplot:xlabel='date,date'>"
      ]
     },
     "metadata": {},
     "execution_count": 12
    },
    {
     "output_type": "display_data",
     "data": {
      "text/plain": [
       "<Figure size 432x288 with 1 Axes>"
      ],
      "image/png": "[encoded data removed]"
     },
     "metadata": {
      "needs_background": "light"
     }
    }
   ],
   "metadata": {}
  },
  {
   "cell_type": "code",
   "execution_count": 17,
   "source": [
    "d['text']"
   ],
   "outputs": [
    {
     "output_type": "execute_result",
     "data": {
      "text/plain": [
       "0          Fatma Kücük Öztürk                                                                                                                                                                                                                                                                                                                                                                                                                                                                                                                                                                                                                                                                                                                                                                                                                                                                                                                                                                                                                                                                                                                                                                                                                                                                                                                                                                                                                                                                                                                                                                                                                                                                                                                                                                                                                                                                                                                                                                                                                            \n",
       "1          Bente Jørgensen godt vi ikke lærte det da vi gik i skole,  ja at brokke sig \u001a\u001a\u001a\u001a\u001a\u001a                                                                                                                                                                                                                                                                                                                                                                                                                                                                                                                                                                                                                                                                                                                                                                                                                                                                                                                                                                                                                                                                                                                                                                                                                                                                                                                                                                                                                                                                                                                                                                                                                                                                                                                                                                                                                                                                                                                                                            \n",
       "2          Når man har læst om, hvad Bolsenaro har udtalt om homoseksuelle, kvinder, klima og andre ting, kan intet overraske fra den kant. Han får nærmest Trump til at virke venstreorienteret.                                                                                                                                                                                                                                                                                                                                                                                                                                                                                                                                                                                                                                                                                                                                                                                                                                                                                                                                                                                                                                                                                                                                                                                                                                                                                                                                                                                                                                                                                                                                                                                                                                                                                                                                                                                                                                                        \n",
       "3          Bente Kristoffersen det beklager jeg så. Der har blot været så mange kommentarer der har været forstokkede. Lagde faktisk ikke mærke til grinesmileyen før du lige nævner det nu. Håber du får en god dag                                                                                                                                                                                                                                                                                                                                                                                                                                                                                                                                                                                                                                                                                                                                                                                                                                                                                                                                                                                                                                                                                                                                                                                                                                                                                                                                                                                                                                                                                                                                                                                                                                                                                                                                                                                                                                     \n",
       "4          Mohammad Askar Og bedetæpper                                                                                                                                                                                                                                                                                                                                                                                                                                                                                                                                                                                                                                                                                                                                                                                                                                                                                                                                                                                                                                                                                                                                                                                                                                                                                                                                                                                                                                                                                                                                                                                                                                                                                                                                                                                                                                                                                                                                                                                                                  \n",
       "                       ...                                                                                                                                                                                                                                                                                                                                                                                                                                                                                                                                                                                                                                                                                                                                                                                                                                                                                                                                                                                                                                                                                                                                                                                                                                                                                                                                                                                                                                                                                                                                                                                                                                                                                                                                                                                                                                                                                                                                                                                                                               \n",
       "4941244    Sådan her skrev jeg i et opslag i går:\\n\\n\"ADVARSEL - jeg har lige læst en artikel, hvor der står at vaccinen indeholder stoffet dihydrogenmonooxid. Det er bevist, at børn med autisme har indtaget det kemikalie på et eller andet tidspunkti deres liv! Advarsel - bliv #antivax\" \\n\\nKære DR Nyheder\\n\\nNu har det her opslag stået et døgn på jeres Facebook side - og det illustrerer glimrende jeres yderst lemfældige forhold til jeres ansvar i forhold til at modere jeres Facebook side. For mit opslag er selvfølgelig det rene nonsens. Dihydrogenmonooxid er den kemiske betegnelse for VAND! Og man får selvfølgelig ikke autisme af at få en injektion, der indeholder VAND!\\n\\nDesværre er mit opslag meget typisk for en stor del af det forvrøvlede, konspiratoriske misinformation, der får lov at fylde alt for meget i kommentarsporet til mange af jeres artikler om f.eks. Covid-19,  klimaforandringerne eller andet, som sære grupperinger mener er kontroversielle. Og I gør som medie desværre INTET som helst i forhold til at løfte det ansvar, som I har for det møg, der spredes på nettet. Og på den måde bliver I passivt medvirkende til at sprede misinformation of fake news. \\n\\nDet er ikke godt nok.I er simpelthen nødt til at stramme op! I anlægger selvfølgelig nogle redaktionelle kriterier i forhold til sandhedsværdien og ledigheden af det, I bringer i jeres nyhedsmedie. I har nogle idealer og kriterier i forhold til hvad I mener er god og lødig journalistik. Dem er I simpelthen nødt til at overføre til jeres Facebook side. I er nødt til at begynde at moderere hvad I vil lægge navn og rygte til, at der bliver bragt på jeres side. Ellers er I simpelthen ikke jeres opgave som den fjerde statsmagt voksne.\\n\\nRyd ud i alt det nonsens, der bliver bragt på jeres side. Stil krav om at folk der skriver på jeres side skal kunne identificeres ved navn, spark troldene ud! Det haster - for den demokratiske debats skyld.\\n\\nMed venlig hilsen \\nEn bekymret medborger.\n",
       "4941245    Sådan her skrev jeg i et opslag i går:\\n\\n\"ADVARSEL - jeg har lige læst en artikel, hvor der står at vaccinen indeholder stoffet dihydrogenmonooxid. Det er bevist, at børn med autisme har indtaget det kemikalie på et eller andet tidspunkti deres liv! Advarsel - bliv #antivax\" \\n\\nKære DR Nyheder\\n\\nNu har det her opslag stået et døgn på jeres Facebook side - og det illustrerer glimrende jeres yderst lemfældige forhold til jeres ansvar i forhold til at modere jeres Facebook side. For mit opslag er selvfølgelig det rene nonsens. Dihydrogenmonooxid er den kemiske betegnelse for VAND! Og man får selvfølgelig ikke autisme af at få en injektion, der indeholder VAND!\\n\\nDesværre er mit opslag meget typisk for en stor del af det forvrøvlede, konspiratoriske misinformation, der får lov at fylde alt for meget i kommentarsporet til mange af jeres artikler om f.eks. Covid-19,  klimaforandringerne eller andet, som sære grupperinger mener er kontroversielle. Og I gør som medie desværre INTET som helst i forhold til at løfte det ansvar, som I har for det møg, der spredes på nettet. Og på den måde bliver I passivt medvirkende til at sprede misinformation of fake news. \\n\\nDet er ikke godt nok.I er simpelthen nødt til at stramme op! I anlægger selvfølgelig nogle redaktionelle kriterier i forhold til sandhedsværdien og ledigheden af det, I bringer i jeres nyhedsmedie. I har nogle idealer og kriterier i forhold til hvad I mener er god og lødig journalistik. Dem er I simpelthen nødt til at overføre til jeres Facebook side. I er nødt til at begynde at moderere hvad I vil lægge navn og rygte til, at der bliver bragt på jeres side. Ellers er I simpelthen ikke jeres opgave som den fjerde statsmagt voksne.\\n\\nRyd ud i alt det nonsens, der bliver bragt på jeres side. Stil krav om at folk der skriver på jeres side skal kunne identificeres ved navn, spark troldene ud! Det haster - for den demokratiske debats skyld.\\n\\nMed venlig hilsen \\nEn bekymret medborger.\n",
       "4941246    Jonas om noget kan du da hvertfald pryde dit cv med at du er dummere end vådt bølgepap. \\nDin halvhjernede tankegang og dine 2 minutters googlede research ang. Grønlands historie må du satme længere ud med. \\n\\nHvis du fatter så lidt som du så synligt har bevist og skrevet så luk arret. \\n\\nTror ikke du ved hvor godt det danske samfund nyder og tjener på Grønland. Så når du skakker bloktilskud, så pak den kommentar så langt op i dit lede røvhul. \\nOg et sted hvor solen aldrig kommer til at skinne igen. \\n\\nIdioter som dig er der mange af DESVÆRRE.                                                                                                                                                                                                                                                                                                                                                                                                                                                                                                                                                                                                                                                                                                                                                                                                                                                                                                                                                                                                                                                                                                                                                                                                                                                                                                                                                                                                                                                                     \n",
       "4941247    Der lige den som bare er så sjov, Dyt så det batter så KNEPPER jeg din datter, den er bare fantastisk. Kom med sjove banner tekster, det synes P4 værter er sjovt ;-)                                                                                                                                                                                                                                                                                                                                                                                                                                                                                                                                                                                                                                                                                                                                                                                                                                                                                                                                                                                                                                                                                                                                                                                                                                                                                                                                                                                                                                                                                                                                                                                                                                                                                                                                                                                                                                                                         \n",
       "4941248    Søren Gregersen altså nu ved jeg ik om du er helt retaderet, men nu har normale vacciner intet med covid vaccine at gøre og hvis ik du kigger ud over dk grænser og den danske propaganda for cov-vac. \\n\\nDet normale vaccine program følger mine børn selvfølg                                                                                                                                                                                                                                                                                                                                                                                                                                                                                                                                                                                                                                                                                                                                                                                                                                                                                                                                                                                                                                                                                                                                                                                                                                                                                                                                                                                                                                                                                                                                                                                                                                                                                                                                                                              \n",
       "Name: text, Length: 4941249, dtype: object"
      ]
     },
     "metadata": {},
     "execution_count": 17
    }
   ],
   "metadata": {}
  },
  {
   "cell_type": "code",
   "execution_count": null,
   "source": [],
   "outputs": [],
   "metadata": {}
  }
 ],
 "metadata": {
  "orig_nbformat": 4,
  "language_info": {
   "name": "python",
   "version": "3.8.10",
   "mimetype": "text/x-python",
   "codemirror_mode": {
    "name": "ipython",
    "version": 3
   },
   "pygments_lexer": "ipython3",
   "nbconvert_exporter": "python",
   "file_extension": ".py"
  },
  "kernelspec": {
   "name": "python3",
   "display_name": "Python 3.8.10 64-bit ('venv')"
  },
  "interpreter": {
   "hash": "cabd6297d2b14f06f5a958ca57fd934a85235f8247d3c66d65dea011b824f326"
  }
 },
 "nbformat": 4,
 "nbformat_minor": 2
}