{
 "cells": [
  {
   "cell_type": "code",
   "execution_count": null,
   "id": "ed45d611-9306-4598-a8c1-805a6c531d73",
   "metadata": {},
   "outputs": [],
   "source": [
    "%cd ..\n",
    "from transformers import AutoTokenizer, AutoModelForSequenceClassification"
   ]
  },
  {
   "cell_type": "code",
   "execution_count": null,
   "id": "5f34bd64-c1c6-4081-88d9-b46ce37ce4b2",
   "metadata": {},
   "outputs": [],
   "source": [
    "model_id = 'models/xlmr-base3'\n",
    "hub_id = 'xlm-roberta-base-offensive-text-detection-da'"
   ]
  },
  {
   "cell_type": "code",
   "execution_count": null,
   "id": "b7650322-d7bc-4939-9cb3-f32af6fcd46b",
   "metadata": {},
   "outputs": [],
   "source": [
    "tok = AutoTokenizer.from_pretrained(model_id)\n",
    "model = AutoModelForSequenceClassification.from_pretrained(model_id)"
   ]
  },
  {
   "cell_type": "code",
   "execution_count": null,
   "id": "16abd4ed-d6ab-427f-869a-541b0a5b282a",
   "metadata": {},
   "outputs": [],
   "source": [
    "model.config.id2label = {\n",
    "    0: \"Not offensive\",\n",
    "    1: \"Offensive\",\n",
    "}\n",
    "model.config.label2id = {\n",
    "    lbl: idx for idx, lbl in model.config.id2label.items()\n",
    "}\n",
    "model.config"
   ]
  },
  {
   "cell_type": "code",
   "execution_count": null,
   "id": "12f8eda2-ce1b-4d08-bca8-93a5a47165af",
   "metadata": {},
   "outputs": [],
   "source": [
    "tok.push_to_hub(\n",
    "    f\"alexandrainst/{hub_id}\", \n",
    "    organization=\"alexandrainst\",\n",
    "    use_temp_dir=True, \n",
    "    private=True,\n",
    ")"
   ]
  },
  {
   "cell_type": "code",
   "execution_count": null,
   "id": "ea14ff6a-ce62-4e83-a531-717edd0bd201",
   "metadata": {},
   "outputs": [],
   "source": [
    "model.push_to_hub(\n",
    "    f\"alexandrainst/{hub_id}\", \n",
    "    organization=\"alexandrainst\",\n",
    "    use_temp_dir=True, \n",
    "    private=True,\n",
    ")"
   ]
  }
 ],
 "metadata": {
  "kernelspec": {
   "display_name": "Python 3 (ipykernel)",
   "language": "python",
   "name": "python3"
  },
  "language_info": {
   "codemirror_mode": {
    "name": "ipython",
    "version": 3
   },
   "file_extension": ".py",
   "mimetype": "text/x-python",
   "name": "python",
   "nbconvert_exporter": "python",
   "pygments_lexer": "ipython3",
   "version": "3.8.9"
  }
 },
 "nbformat": 4,
 "nbformat_minor": 5
}
