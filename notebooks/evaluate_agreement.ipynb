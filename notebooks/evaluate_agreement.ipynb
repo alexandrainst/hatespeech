{
 "cells": [
  {
   "cell_type": "code",
   "execution_count": null,
   "id": "262cc2f9-dda2-41a7-8449-74382250a78e",
   "metadata": {},
   "outputs": [],
   "source": [
    "%cd .."
   ]
  },
  {
   "cell_type": "code",
   "execution_count": null,
   "id": "57ccac52-1260-4ef4-bcf7-807d5d89c9da",
   "metadata": {},
   "outputs": [],
   "source": [
    "from sklearn.metrics import cohen_kappa_score\n",
    "import numpy as np\n",
    "import pandas as pd\n",
    "from pathlib import Path\n",
    "from transformers import AutoTokenizer, AutoModelForSequenceClassification\n",
    "import torch\n",
    "from tqdm.auto import tqdm\n",
    "from sklearn.metrics import recall_score, precision_score, f1_score\n",
    "import nltk\n",
    "from src.hatespeech.attack import load_attack\n",
    "nltk.download('punkt')\n",
    "pd.set_option('max_colwidth', None)\n",
    "pd.set_option('max_rows', 200)"
   ]
  },
  {
   "cell_type": "markdown",
   "id": "a0cc514a-da4e-4d4b-b169-510f148aefbb",
   "metadata": {
    "jp-MarkdownHeadingCollapsed": true,
    "tags": []
   },
   "source": [
    "## Measure annotation agreement"
   ]
  },
  {
   "cell_type": "code",
   "execution_count": null,
   "id": "81f359de-abdf-480b-bfa9-bacb55cf561e",
   "metadata": {},
   "outputs": [],
   "source": [
    "processed_dir = Path(\"data\") / \"processed\"\n",
    "final_dir = Path(\"data\") / \"final\"\n",
    "dan_path = processed_dir / \"dr_offensive_annotated_dan.csv\"\n",
    "anders_path = processed_dir / \"dr_offensive_annotated_anders.csv\""
   ]
  },
  {
   "cell_type": "code",
   "execution_count": null,
   "id": "9e1c33c0-6f4a-4c6a-942b-2488dacf836b",
   "metadata": {},
   "outputs": [],
   "source": [
    "dan_df = pd.read_csv(dan_path, sep=\"\\t\")\n",
    "anders_df = pd.read_csv(anders_path, sep=\"\\t\")\n",
    "dan_df.head()"
   ]
  },
  {
   "cell_type": "code",
   "execution_count": null,
   "id": "08703b72-bed6-452a-991c-e4135795b121",
   "metadata": {},
   "outputs": [],
   "source": [
    "cohen_kappa_score(dan_df.label, anders_df.label)"
   ]
  },
  {
   "cell_type": "markdown",
   "id": "2097f4a8-d0f2-471b-a096-1d04220f5add",
   "metadata": {
    "jp-MarkdownHeadingCollapsed": true,
    "tags": []
   },
   "source": [
    "## Visualise annotation agreement"
   ]
  },
  {
   "cell_type": "code",
   "execution_count": null,
   "id": "7ca360fe-436a-4b8f-b1f5-265ec4125661",
   "metadata": {},
   "outputs": [],
   "source": [
    "label_df = pd.concat([dan_df[[\"label\"]], anders_df[[\"label\"]]], axis=1)\n",
    "label_df.columns = [\"Dan\", \"Anders\"]\n",
    "label_df.head()"
   ]
  },
  {
   "cell_type": "code",
   "execution_count": null,
   "id": "9cd0bd88-fd18-4303-8cf2-429048999de8",
   "metadata": {},
   "outputs": [],
   "source": [
    "def change_label_names(label: str) -> str:\n",
    "    if \"context\" in label:\n",
    "        return \"Missing context\"\n",
    "    else:\n",
    "        return label\n",
    "label_df = label_df.applymap(change_label_names)\n",
    "label_df.head()"
   ]
  },
  {
   "cell_type": "code",
   "execution_count": null,
   "id": "38a951e1-cc44-45a9-b21d-a9aec5b2da65",
   "metadata": {},
   "outputs": [],
   "source": [
    "label_df.groupby([\"Dan\", \"Anders\"]).size().unstack(fill_value=0)"
   ]
  },
  {
   "cell_type": "markdown",
   "id": "758ffaae-b206-4f7c-b515-bb27c861ac42",
   "metadata": {
    "jp-MarkdownHeadingCollapsed": true,
    "tags": []
   },
   "source": [
    "## Extract dataframe with agreed labels"
   ]
  },
  {
   "cell_type": "code",
   "execution_count": null,
   "id": "b43609d8-33bb-4bf9-b021-e2e2d30bf9bc",
   "metadata": {},
   "outputs": [],
   "source": [
    "indices_with_agreement = label_df.query('Dan == Anders and Dan != \"Missing context\"').index.tolist()\n",
    "agreement_df = dan_df.loc[indices_with_agreement][[\"text\", \"label\"]].reset_index().rename(columns=dict(index=\"idx\"))\n",
    "agreement_df.head()"
   ]
  },
  {
   "cell_type": "code",
   "execution_count": null,
   "id": "ab7879f9-70c4-4e83-a0c0-c9855cf9fe03",
   "metadata": {},
   "outputs": [],
   "source": [
    "agreement_df.label.value_counts()"
   ]
  },
  {
   "cell_type": "code",
   "execution_count": null,
   "id": "d576b178-81c4-42fb-b214-1e8e7bcae932",
   "metadata": {},
   "outputs": [],
   "source": [
    "val_df_pos = agreement_df.query(\"label == 'Offensive'\").sample(frac=0.5, random_state=4242)\n",
    "val_df_neg = agreement_df.query(\"label == 'Not offensive'\").sample(frac=0.5, random_state=4242)\n",
    "val_df = pd.concat((val_df_pos, val_df_neg), axis=0).sample(frac=1.).reset_index(drop=True)\n",
    "val_df.label.value_counts()"
   ]
  },
  {
   "cell_type": "code",
   "execution_count": null,
   "id": "dd95f826-32d9-4d02-bf9f-ea2c9085cc0e",
   "metadata": {},
   "outputs": [],
   "source": [
    "test_df = agreement_df[~agreement_df.idx.isin(val_df.idx)]\n",
    "test_df.label.value_counts()"
   ]
  },
  {
   "cell_type": "code",
   "execution_count": null,
   "id": "50af4f2c-3211-4ffc-be27-ae8ea58d6fee",
   "metadata": {},
   "outputs": [],
   "source": [
    "agreement_df.to_parquet(processed_dir / \"dr_offensive_annotated_agreement.parquet\")\n",
    "val_df.to_parquet(final_dir / \"dr_offensive_val.parquet\")\n",
    "test_df.to_parquet(final_dir / \"dr_offensive_test.parquet\")"
   ]
  },
  {
   "cell_type": "code",
   "execution_count": null,
   "id": "efa2bf0e-e7e9-4af4-8525-c301f5abdbf7",
   "metadata": {},
   "outputs": [],
   "source": [
    "model_id = 'models/xlmr-base2'\n",
    "\n",
    "# Load tokenizer and model\n",
    "if model_id == 'attack':\n",
    "    tok, model = load_attack()\n",
    "else:\n",
    "    tok = AutoTokenizer.from_pretrained(model_id)\n",
    "    model = AutoModelForSequenceClassification.from_pretrained(model_id)\n",
    "\n",
    "# Get logits\n",
    "logits = torch.stack(\n",
    "    [get_logits(doc, tok, model) for doc in tqdm(val_df.text, leave=False)]\n",
    ")"
   ]
  },
  {
   "cell_type": "code",
   "execution_count": null,
   "id": "ba99d812-85dc-4608-befb-a66ebdad64f9",
   "metadata": {},
   "outputs": [],
   "source": [
    "# Add the logits and equivalent probabilities to the validation dataframe\n",
    "val_df[\"model_logits\"] = logits.tolist()\n",
    "val_df[\"model_probs\"] = torch.sigmoid(logits).tolist()\n",
    "val_df.head()"
   ]
  },
  {
   "cell_type": "code",
   "execution_count": null,
   "id": "35df8d18-159b-41e9-963d-63bd645c6e55",
   "metadata": {},
   "outputs": [],
   "source": [
    "# Get the sample indices on which the model was wrong\n",
    "wrong_idxs = (\n",
    "    torch.nonzero((logits > 0) != torch.tensor(val_labels)).squeeze(1).tolist()\n",
    ")\n",
    "\n",
    "# Get the samples on which the model was wrong\n",
    "wrong_df = val_df.loc[wrong_idxs]\n",
    "\n",
    "# Sort the dataframe by absolute value of logits\n",
    "wrong_df = wrong_df.sort_values(by='model_logits', key=lambda x: abs(x), ascending=False)\n",
    "\n",
    "wrong_df"
   ]
  }
 ],
 "metadata": {
  "kernelspec": {
   "display_name": "Python 3 (ipykernel)",
   "language": "python",
   "name": "python3"
  },
  "language_info": {
   "codemirror_mode": {
    "name": "ipython",
    "version": 3
   },
   "file_extension": ".py",
   "mimetype": "text/x-python",
   "name": "python",
   "nbconvert_exporter": "python",
   "pygments_lexer": "ipython3",
   "version": "3.8.9"
  }
 },
 "nbformat": 4,
 "nbformat_minor": 5
}
