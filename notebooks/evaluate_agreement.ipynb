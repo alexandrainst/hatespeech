{
 "cells": [
  {
   "cell_type": "code",
   "execution_count": null,
   "id": "262cc2f9-dda2-41a7-8449-74382250a78e",
   "metadata": {},
   "outputs": [],
   "source": [
    "%cd .."
   ]
  },
  {
   "cell_type": "code",
   "execution_count": null,
   "id": "57ccac52-1260-4ef4-bcf7-807d5d89c9da",
   "metadata": {},
   "outputs": [],
   "source": [
    "from sklearn.metrics import cohen_kappa_score\n",
    "import numpy as np\n",
    "import pandas as pd\n",
    "from pathlib import Path\n",
    "from transformers import AutoTokenizer, AutoModelForSequenceClassification\n",
    "import torch\n",
    "from tqdm.auto import tqdm\n",
    "from sklearn.metrics import recall_score, precision_score, f1_score\n",
    "import nltk\n",
    "from statsmodels.stats import inter_rater as irr\n",
    "from src.hatespeech.attack import load_attack\n",
    "nltk.download('punkt')\n",
    "pd.set_option('max_colwidth', None)\n",
    "pd.set_option('max_rows', 200)"
   ]
  },
  {
   "cell_type": "markdown",
   "id": "a0cc514a-da4e-4d4b-b169-510f148aefbb",
   "metadata": {
    "tags": []
   },
   "source": [
    "## Measure annotation agreement"
   ]
  },
  {
   "cell_type": "code",
   "execution_count": null,
   "id": "81f359de-abdf-480b-bfa9-bacb55cf561e",
   "metadata": {},
   "outputs": [],
   "source": [
    "processed_dir = Path(\"data\") / \"processed\"\n",
    "final_dir = Path(\"data\") / \"final\"\n",
    "dan_path = processed_dir / \"annotated-off-dan.csv\"\n",
    "anders_path = processed_dir / \"annotated-off-anders.csv\"\n",
    "oliver_path = processed_dir / \"annotated-off-oliver.csv\""
   ]
  },
  {
   "cell_type": "code",
   "execution_count": null,
   "id": "9e1c33c0-6f4a-4c6a-942b-2488dacf836b",
   "metadata": {},
   "outputs": [],
   "source": [
    "dan_df = pd.read_csv(dan_path, sep=\"\\t\")\n",
    "anders_df = pd.read_csv(anders_path, sep=\"\\t\")\n",
    "oliver_df = pd.read_csv(oliver_path, sep=\"\\t\")\n",
    "oliver_df.label = oliver_df.label.map(\n",
    "    lambda lbl: \"Could be offensive, depending on context\" if lbl == \"Not sure\" else lbl\n",
    ")\n",
    "oliver_df.head()"
   ]
  },
  {
   "cell_type": "code",
   "execution_count": null,
   "id": "08703b72-bed6-452a-991c-e4135795b121",
   "metadata": {},
   "outputs": [],
   "source": [
    "labels = np.stack(\n",
    "    [\n",
    "        dan_df.label.astype('category').cat.codes, \n",
    "        anders_df.label.astype('category').cat.codes,\n",
    "        oliver_df.label.astype('category').cat.codes,\n",
    "    ],\n",
    "    axis=-1\n",
    ")\n",
    "labels"
   ]
  },
  {
   "cell_type": "code",
   "execution_count": null,
   "id": "12a53ca2-2498-4783-a384-c8196432eeaf",
   "metadata": {},
   "outputs": [],
   "source": [
    "agg, _ = irr.aggregate_raters(labels)\n",
    "irr.fleiss_kappa(agg)"
   ]
  },
  {
   "cell_type": "markdown",
   "id": "2097f4a8-d0f2-471b-a096-1d04220f5add",
   "metadata": {
    "tags": []
   },
   "source": [
    "## Visualise annotation agreement"
   ]
  },
  {
   "cell_type": "code",
   "execution_count": null,
   "id": "7ca360fe-436a-4b8f-b1f5-265ec4125661",
   "metadata": {},
   "outputs": [],
   "source": [
    "label_df = pd.concat([dan_df[[\"label\"]], anders_df[[\"label\"]], oliver_df[[\"label\"]]], axis=1)\n",
    "label_df.columns = [\"Dan\", \"Anders\", \"Oliver\"]\n",
    "label_df.head()"
   ]
  },
  {
   "cell_type": "code",
   "execution_count": null,
   "id": "9cd0bd88-fd18-4303-8cf2-429048999de8",
   "metadata": {},
   "outputs": [],
   "source": [
    "def change_label_names(label: str) -> str:\n",
    "    if \"context\" in label:\n",
    "        return \"Missing context\"\n",
    "    else:\n",
    "        return label\n",
    "label_df = label_df.applymap(change_label_names)\n",
    "label_df.head()"
   ]
  },
  {
   "cell_type": "code",
   "execution_count": null,
   "id": "38a951e1-cc44-45a9-b21d-a9aec5b2da65",
   "metadata": {},
   "outputs": [],
   "source": [
    "comparisons = [\n",
    "    [\"Dan\", \"Anders\"],\n",
    "    [\"Dan\", \"Oliver\"],\n",
    "    [\"Anders\", \"Oliver\"],\n",
    "    [\"Dan\", \"Anders\", \"Oliver\"],\n",
    "]\n",
    "for comparison in comparisons:\n",
    "    display(label_df.groupby(comparison).size().unstack(fill_value=0))"
   ]
  },
  {
   "cell_type": "markdown",
   "id": "758ffaae-b206-4f7c-b515-bb27c861ac42",
   "metadata": {
    "tags": []
   },
   "source": [
    "## Extract dataframe with majority labels"
   ]
  },
  {
   "cell_type": "code",
   "execution_count": null,
   "id": "fd1e9d8c-e425-4b90-9b09-d84a45ba0842",
   "metadata": {},
   "outputs": [],
   "source": [
    "majority_vote_df = dan_df.copy()[[\"text\", \"label\"]]\n",
    "majority_vote_df.label = label_df.mode(axis=1).dropna(axis=1)\n",
    "majority_vote_df = majority_vote_df.reset_index().rename(columns=dict(index=\"idx\"))\n",
    "majority_vote_df.head()"
   ]
  },
  {
   "cell_type": "code",
   "execution_count": null,
   "id": "546d5c74-c094-40cd-8537-8d7674f1c8cd",
   "metadata": {},
   "outputs": [],
   "source": [
    "agreed_df = pd.concat(\n",
    "    [label_df[col] == majority_vote_df.label for col in label_df.columns], axis=1\n",
    ")\n",
    "agreed_df.head()"
   ]
  },
  {
   "cell_type": "code",
   "execution_count": null,
   "id": "71bbb096-a2e1-41a6-af6b-bbf08fb54e8d",
   "metadata": {},
   "outputs": [],
   "source": [
    "num_agreed = agreed_df.sum(axis=1)\n",
    "majority_vote_df[\"num_agreed\"] = num_agreed\n",
    "majority_vote_df = majority_vote_df.query(\"label != 'Missing context'\")\n",
    "majority_vote_df"
   ]
  },
  {
   "cell_type": "code",
   "execution_count": null,
   "id": "8ffd2ace-23a1-45df-aa70-bc9bcd481c8a",
   "metadata": {},
   "outputs": [],
   "source": [
    "majority_vote_df.num_agreed.value_counts()"
   ]
  },
  {
   "cell_type": "code",
   "execution_count": null,
   "id": "589084c0-a961-4ae3-9e95-a870d6abdbbc",
   "metadata": {},
   "outputs": [],
   "source": [
    "val_df_pos = majority_vote_df.query(\"label == 'Offensive'\").sample(frac=0.5, random_state=4242)\n",
    "val_df_neg = majority_vote_df.query(\"label == 'Not offensive'\").sample(frac=0.5, random_state=4242)\n",
    "val_df = pd.concat((val_df_pos, val_df_neg), axis=0).sample(frac=1.).reset_index(drop=True)\n",
    "val_df.label.value_counts()"
   ]
  },
  {
   "cell_type": "code",
   "execution_count": null,
   "id": "e45b1a1e-8018-464b-8ac5-1fee09da8082",
   "metadata": {},
   "outputs": [],
   "source": [
    "test_df = majority_vote_df[~majority_vote_df.idx.isin(val_df.idx)]\n",
    "test_df.label.value_counts()"
   ]
  },
  {
   "cell_type": "code",
   "execution_count": null,
   "id": "6e3c38b7-7ede-4d80-9b39-b5777a817a9c",
   "metadata": {},
   "outputs": [],
   "source": [
    "majority_vote_df.to_parquet(processed_dir / \"annotated-off.parquet\")\n",
    "val_df.to_parquet(final_dir / \"val-off.parquet\")\n",
    "test_df.to_parquet(final_dir / \"test-off.parquet\")"
   ]
  }
 ],
 "metadata": {
  "kernelspec": {
   "display_name": "Python 3 (ipykernel)",
   "language": "python",
   "name": "python3"
  },
  "language_info": {
   "codemirror_mode": {
    "name": "ipython",
    "version": 3
   },
   "file_extension": ".py",
   "mimetype": "text/x-python",
   "name": "python",
   "nbconvert_exporter": "python",
   "pygments_lexer": "ipython3",
   "version": "3.8.9"
  }
 },
 "nbformat": 4,
 "nbformat_minor": 5
}
