{
 "cells": [
  {
   "cell_type": "code",
   "execution_count": null,
   "id": "62ccf1e7-79a5-4ad7-9042-84b176ef4ac0",
   "metadata": {},
   "outputs": [],
   "source": [
    "%cd .."
   ]
  },
  {
   "cell_type": "code",
   "execution_count": null,
   "id": "99144d48-2040-411c-9663-57a16e06393d",
   "metadata": {},
   "outputs": [],
   "source": [
    "import pandas as pd\n",
    "pd.set_option('max_colwidth', None)\n",
    "pd.set_option('max_rows', 200)"
   ]
  },
  {
   "cell_type": "code",
   "execution_count": null,
   "id": "48a987cc-037b-4354-ac04-c802f9f3eb3e",
   "metadata": {},
   "outputs": [],
   "source": [
    "df = pd.read_parquet('data/processed/weakly-supervised-off.parquet')\n",
    "df.head()"
   ]
  },
  {
   "cell_type": "code",
   "execution_count": null,
   "id": "c283eac8-61c2-4533-a745-c0a0765e92bc",
   "metadata": {},
   "outputs": [],
   "source": [
    "df.label.value_counts(normalize=True)"
   ]
  },
  {
   "cell_type": "code",
   "execution_count": null,
   "id": "deb76793-4c3f-46a4-95c7-f69491633ab4",
   "metadata": {},
   "outputs": [],
   "source": [
    "df.query('label == 1').sample(n=10)[['text']]"
   ]
  }
 ],
 "metadata": {
  "kernelspec": {
   "display_name": "Python 3 (ipykernel)",
   "language": "python",
   "name": "python3"
  },
  "language_info": {
   "codemirror_mode": {
    "name": "ipython",
    "version": 3
   },
   "file_extension": ".py",
   "mimetype": "text/x-python",
   "name": "python",
   "nbconvert_exporter": "python",
   "pygments_lexer": "ipython3",
   "version": "3.8.9"
  }
 },
 "nbformat": 4,
 "nbformat_minor": 5
}
