{
 "cells": [
  {
   "cell_type": "code",
   "execution_count": 1,
   "id": "6dafec55-51e9-422b-a888-26b926f77d97",
   "metadata": {},
   "outputs": [
    {
     "name": "stdout",
     "output_type": "stream",
     "text": [
      "/Users/saattrupdan/gitsky/dr_hatespeech\n"
     ]
    }
   ],
   "source": [
    "%cd ..\n",
    "%reload_ext autoreload\n",
    "%autoreload 2"
   ]
  },
  {
   "cell_type": "code",
   "execution_count": 2,
   "id": "ad989f4e-49a2-4bad-a6ac-97d57c28e222",
   "metadata": {},
   "outputs": [],
   "source": [
    "import pandas as pd\n",
    "from transformers import pipeline\n",
    "from src.data import load_data\n",
    "import re\n",
    "\n",
    "pd.set_option(\"max_colwidth\", None)"
   ]
  },
  {
   "cell_type": "code",
   "execution_count": 5,
   "id": "9004d420-042c-4969-82e9-2bd2d8330044",
   "metadata": {},
   "outputs": [
    {
     "name": "stdout",
     "output_type": "stream",
     "text": [
      "Loaded 4,221,296 posts.\n"
     ]
    },
    {
     "data": {
      "text/html": [
       "<div>\n",
       "<style scoped>\n",
       "    .dataframe tbody tr th:only-of-type {\n",
       "        vertical-align: middle;\n",
       "    }\n",
       "\n",
       "    .dataframe tbody tr th {\n",
       "        vertical-align: top;\n",
       "    }\n",
       "\n",
       "    .dataframe thead th {\n",
       "        text-align: right;\n",
       "    }\n",
       "</style>\n",
       "<table border=\"1\" class=\"dataframe\">\n",
       "  <thead>\n",
       "    <tr style=\"text-align: right;\">\n",
       "      <th></th>\n",
       "      <th>account</th>\n",
       "      <th>text</th>\n",
       "      <th>url</th>\n",
       "      <th>date</th>\n",
       "      <th>action</th>\n",
       "      <th>post_id</th>\n",
       "      <th>comment_id</th>\n",
       "      <th>reply_comment_id</th>\n",
       "    </tr>\n",
       "  </thead>\n",
       "  <tbody>\n",
       "    <tr>\n",
       "      <th>0</th>\n",
       "      <td>dr nyheder</td>\n",
       "      <td>Fatma Kücük Öztürk</td>\n",
       "      <td>None</td>\n",
       "      <td>2021-03-06</td>\n",
       "      <td>none</td>\n",
       "      <td>NaN</td>\n",
       "      <td>NaN</td>\n",
       "      <td>NaN</td>\n",
       "    </tr>\n",
       "    <tr>\n",
       "      <th>1</th>\n",
       "      <td>dr nyheder</td>\n",
       "      <td>Bente Jørgensen godt vi ikke lærte det da vi gik i skole, ja at brokke sig</td>\n",
       "      <td>None</td>\n",
       "      <td>2021-03-06</td>\n",
       "      <td>none</td>\n",
       "      <td>NaN</td>\n",
       "      <td>NaN</td>\n",
       "      <td>NaN</td>\n",
       "    </tr>\n",
       "    <tr>\n",
       "      <th>2</th>\n",
       "      <td>dr nyheder</td>\n",
       "      <td>Når man har læst om, hvad Bolsenaro har udtalt om homoseksuelle, kvinder, klima og andre ting, kan intet overraske fra den kant. Han får nærmest Trump til at virke venstreorienteret.</td>\n",
       "      <td>None</td>\n",
       "      <td>2021-03-06</td>\n",
       "      <td>none</td>\n",
       "      <td>NaN</td>\n",
       "      <td>NaN</td>\n",
       "      <td>NaN</td>\n",
       "    </tr>\n",
       "    <tr>\n",
       "      <th>3</th>\n",
       "      <td>dr nyheder</td>\n",
       "      <td>Bente Kristoffersen det beklager jeg så. Der har blot været så mange kommentarer der har været forstokkede. Lagde faktisk ikke mærke til grinesmileyen før du lige nævner det nu. Håber du får en god dag</td>\n",
       "      <td>None</td>\n",
       "      <td>2021-03-06</td>\n",
       "      <td>none</td>\n",
       "      <td>NaN</td>\n",
       "      <td>NaN</td>\n",
       "      <td>NaN</td>\n",
       "    </tr>\n",
       "    <tr>\n",
       "      <th>4</th>\n",
       "      <td>dr nyheder</td>\n",
       "      <td>Mohammad Askar Og bedetæpper</td>\n",
       "      <td>None</td>\n",
       "      <td>2021-03-06</td>\n",
       "      <td>none</td>\n",
       "      <td>NaN</td>\n",
       "      <td>NaN</td>\n",
       "      <td>NaN</td>\n",
       "    </tr>\n",
       "  </tbody>\n",
       "</table>\n",
       "</div>"
      ],
      "text/plain": [
       "      account  \\\n",
       "0  dr nyheder   \n",
       "1  dr nyheder   \n",
       "2  dr nyheder   \n",
       "3  dr nyheder   \n",
       "4  dr nyheder   \n",
       "\n",
       "                                                                                                                                                                                                        text  \\\n",
       "0                                                                                                                                                                                         Fatma Kücük Öztürk   \n",
       "1                                                                                                                                 Bente Jørgensen godt vi ikke lærte det da vi gik i skole, ja at brokke sig   \n",
       "2                     Når man har læst om, hvad Bolsenaro har udtalt om homoseksuelle, kvinder, klima og andre ting, kan intet overraske fra den kant. Han får nærmest Trump til at virke venstreorienteret.   \n",
       "3  Bente Kristoffersen det beklager jeg så. Der har blot været så mange kommentarer der har været forstokkede. Lagde faktisk ikke mærke til grinesmileyen før du lige nævner det nu. Håber du får en god dag   \n",
       "4                                                                                                                                                                               Mohammad Askar Og bedetæpper   \n",
       "\n",
       "    url       date action  post_id  comment_id  reply_comment_id  \n",
       "0  None 2021-03-06   none      NaN         NaN               NaN  \n",
       "1  None 2021-03-06   none      NaN         NaN               NaN  \n",
       "2  None 2021-03-06   none      NaN         NaN               NaN  \n",
       "3  None 2021-03-06   none      NaN         NaN               NaN  \n",
       "4  None 2021-03-06   none      NaN         NaN               NaN  "
      ]
     },
     "execution_count": 5,
     "metadata": {},
     "output_type": "execute_result"
    }
   ],
   "source": [
    "df = load_data()\n",
    "print(f\"Loaded {len(df):,} posts.\")\n",
    "df.head(5)"
   ]
  },
  {
   "cell_type": "code",
   "execution_count": null,
   "id": "f5758fa2-6363-4a76-81eb-e6fc9ffda02e",
   "metadata": {},
   "outputs": [],
   "source": [
    "ws_df = pd.read_parquet(\"data/processed/data_2022_weakly_supervised.parquet\")\n",
    "ws_df.head()"
   ]
  },
  {
   "cell_type": "code",
   "execution_count": null,
   "id": "7e090e00-7643-4e67-af47-55df51d03d64",
   "metadata": {},
   "outputs": [],
   "source": [
    "ws_df.query(\"label == 1\").text.tolist()"
   ]
  }
 ],
 "metadata": {
  "kernelspec": {
   "display_name": "Python 3 (ipykernel)",
   "language": "python",
   "name": "python3"
  },
  "language_info": {
   "codemirror_mode": {
    "name": "ipython",
    "version": 3
   },
   "file_extension": ".py",
   "mimetype": "text/x-python",
   "name": "python",
   "nbconvert_exporter": "python",
   "pygments_lexer": "ipython3",
   "version": "3.8.3"
  }
 },
 "nbformat": 4,
 "nbformat_minor": 5
}
