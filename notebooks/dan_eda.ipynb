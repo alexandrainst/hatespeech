{
 "cells": [
  {
   "cell_type": "code",
   "execution_count": 1,
   "id": "6dafec55-51e9-422b-a888-26b926f77d97",
   "metadata": {},
   "outputs": [
    {
     "name": "stdout",
     "output_type": "stream",
     "text": [
      "/Users/saattrupdan/gitsky/dr_hatespeech\n"
     ]
    }
   ],
   "source": [
    "%cd ..\n",
    "%reload_ext autoreload\n",
    "%autoreload 2"
   ]
  },
  {
   "cell_type": "code",
   "execution_count": 2,
   "id": "ad989f4e-49a2-4bad-a6ac-97d57c28e222",
   "metadata": {},
   "outputs": [],
   "source": [
    "import pandas as pd\n",
    "from transformers import pipeline\n",
    "from src.data import load_data\n",
    "import re\n",
    "\n",
    "pd.set_option(\"max_colwidth\", None)"
   ]
  },
  {
   "cell_type": "markdown",
   "id": "6ab60df4-248d-42fd-a52a-1d704497ae87",
   "metadata": {},
   "source": [
    "## Explore the cleaned data"
   ]
  },
  {
   "cell_type": "code",
   "execution_count": 3,
   "id": "9004d420-042c-4969-82e9-2bd2d8330044",
   "metadata": {},
   "outputs": [
    {
     "name": "stdout",
     "output_type": "stream",
     "text": [
      "Loaded 4,221,221 posts.\n"
     ]
    },
    {
     "data": {
      "text/html": [
       "<div>\n",
       "<style scoped>\n",
       "    .dataframe tbody tr th:only-of-type {\n",
       "        vertical-align: middle;\n",
       "    }\n",
       "\n",
       "    .dataframe tbody tr th {\n",
       "        vertical-align: top;\n",
       "    }\n",
       "\n",
       "    .dataframe thead th {\n",
       "        text-align: right;\n",
       "    }\n",
       "</style>\n",
       "<table border=\"1\" class=\"dataframe\">\n",
       "  <thead>\n",
       "    <tr style=\"text-align: right;\">\n",
       "      <th></th>\n",
       "      <th>account</th>\n",
       "      <th>text</th>\n",
       "      <th>url</th>\n",
       "      <th>date</th>\n",
       "      <th>action</th>\n",
       "      <th>post_id</th>\n",
       "      <th>comment_id</th>\n",
       "      <th>reply_comment_id</th>\n",
       "    </tr>\n",
       "  </thead>\n",
       "  <tbody>\n",
       "    <tr>\n",
       "      <th>0</th>\n",
       "      <td>dr nyheder</td>\n",
       "      <td>Fatma Kücük Öztürk</td>\n",
       "      <td>None</td>\n",
       "      <td>2021-03-06</td>\n",
       "      <td>none</td>\n",
       "      <td>NaN</td>\n",
       "      <td>NaN</td>\n",
       "      <td>NaN</td>\n",
       "    </tr>\n",
       "    <tr>\n",
       "      <th>1</th>\n",
       "      <td>dr nyheder</td>\n",
       "      <td>Bente Jørgensen godt vi ikke lærte det da vi gik i skole, ja at brokke sig</td>\n",
       "      <td>None</td>\n",
       "      <td>2021-03-06</td>\n",
       "      <td>none</td>\n",
       "      <td>NaN</td>\n",
       "      <td>NaN</td>\n",
       "      <td>NaN</td>\n",
       "    </tr>\n",
       "    <tr>\n",
       "      <th>2</th>\n",
       "      <td>dr nyheder</td>\n",
       "      <td>Når man har læst om, hvad Bolsenaro har udtalt om homoseksuelle, kvinder, klima og andre ting, kan intet overraske fra den kant. Han får nærmest Trump til at virke venstreorienteret.</td>\n",
       "      <td>None</td>\n",
       "      <td>2021-03-06</td>\n",
       "      <td>none</td>\n",
       "      <td>NaN</td>\n",
       "      <td>NaN</td>\n",
       "      <td>NaN</td>\n",
       "    </tr>\n",
       "    <tr>\n",
       "      <th>3</th>\n",
       "      <td>dr nyheder</td>\n",
       "      <td>Bente Kristoffersen det beklager jeg så. Der har blot været så mange kommentarer der har været forstokkede. Lagde faktisk ikke mærke til grinesmileyen før du lige nævner det nu. Håber du får en god dag</td>\n",
       "      <td>None</td>\n",
       "      <td>2021-03-06</td>\n",
       "      <td>none</td>\n",
       "      <td>NaN</td>\n",
       "      <td>NaN</td>\n",
       "      <td>NaN</td>\n",
       "    </tr>\n",
       "    <tr>\n",
       "      <th>4</th>\n",
       "      <td>dr nyheder</td>\n",
       "      <td>Mohammad Askar Og bedetæpper</td>\n",
       "      <td>None</td>\n",
       "      <td>2021-03-06</td>\n",
       "      <td>none</td>\n",
       "      <td>NaN</td>\n",
       "      <td>NaN</td>\n",
       "      <td>NaN</td>\n",
       "    </tr>\n",
       "  </tbody>\n",
       "</table>\n",
       "</div>"
      ],
      "text/plain": [
       "      account  \\\n",
       "0  dr nyheder   \n",
       "1  dr nyheder   \n",
       "2  dr nyheder   \n",
       "3  dr nyheder   \n",
       "4  dr nyheder   \n",
       "\n",
       "                                                                                                                                                                                                        text  \\\n",
       "0                                                                                                                                                                                         Fatma Kücük Öztürk   \n",
       "1                                                                                                                                 Bente Jørgensen godt vi ikke lærte det da vi gik i skole, ja at brokke sig   \n",
       "2                     Når man har læst om, hvad Bolsenaro har udtalt om homoseksuelle, kvinder, klima og andre ting, kan intet overraske fra den kant. Han får nærmest Trump til at virke venstreorienteret.   \n",
       "3  Bente Kristoffersen det beklager jeg så. Der har blot været så mange kommentarer der har været forstokkede. Lagde faktisk ikke mærke til grinesmileyen før du lige nævner det nu. Håber du får en god dag   \n",
       "4                                                                                                                                                                               Mohammad Askar Og bedetæpper   \n",
       "\n",
       "    url       date action  post_id  comment_id  reply_comment_id  \n",
       "0  None 2021-03-06   none      NaN         NaN               NaN  \n",
       "1  None 2021-03-06   none      NaN         NaN               NaN  \n",
       "2  None 2021-03-06   none      NaN         NaN               NaN  \n",
       "3  None 2021-03-06   none      NaN         NaN               NaN  \n",
       "4  None 2021-03-06   none      NaN         NaN               NaN  "
      ]
     },
     "execution_count": 3,
     "metadata": {},
     "output_type": "execute_result"
    }
   ],
   "source": [
    "df = load_data()\n",
    "print(f\"Loaded {len(df):,} posts.\")\n",
    "df.head(5)"
   ]
  },
  {
   "cell_type": "code",
   "execution_count": 20,
   "id": "560b6293-56e9-4e66-b0eb-4b0c30c87ef6",
   "metadata": {
    "tags": []
   },
   "outputs": [
    {
     "data": {
      "text/plain": [
       "0"
      ]
     },
     "execution_count": 20,
     "metadata": {},
     "output_type": "execute_result"
    }
   ],
   "source": [
    "len(df[df.text.str.contains('[EMAIL]', regex=False)])"
   ]
  },
  {
   "cell_type": "markdown",
   "id": "bf9f36ff-32ce-40c9-a534-ea2db8af45c3",
   "metadata": {},
   "source": [
    "## Explore the weakly supervised labels"
   ]
  },
  {
   "cell_type": "code",
   "execution_count": 4,
   "id": "f5758fa2-6363-4a76-81eb-e6fc9ffda02e",
   "metadata": {},
   "outputs": [
    {
     "data": {
      "text/html": [
       "<div>\n",
       "<style scoped>\n",
       "    .dataframe tbody tr th:only-of-type {\n",
       "        vertical-align: middle;\n",
       "    }\n",
       "\n",
       "    .dataframe tbody tr th {\n",
       "        vertical-align: top;\n",
       "    }\n",
       "\n",
       "    .dataframe thead th {\n",
       "        text-align: right;\n",
       "    }\n",
       "</style>\n",
       "<table border=\"1\" class=\"dataframe\">\n",
       "  <thead>\n",
       "    <tr style=\"text-align: right;\">\n",
       "      <th></th>\n",
       "      <th>account</th>\n",
       "      <th>text</th>\n",
       "      <th>url</th>\n",
       "      <th>date</th>\n",
       "      <th>action</th>\n",
       "      <th>post_id</th>\n",
       "      <th>comment_id</th>\n",
       "      <th>reply_comment_id</th>\n",
       "      <th>label</th>\n",
       "    </tr>\n",
       "  </thead>\n",
       "  <tbody>\n",
       "    <tr>\n",
       "      <th>0</th>\n",
       "      <td>dr nyheder</td>\n",
       "      <td>Fatma Kücük Öztürk</td>\n",
       "      <td>None</td>\n",
       "      <td>2021-03-06</td>\n",
       "      <td>none</td>\n",
       "      <td>NaN</td>\n",
       "      <td>NaN</td>\n",
       "      <td>NaN</td>\n",
       "      <td>0</td>\n",
       "    </tr>\n",
       "    <tr>\n",
       "      <th>1</th>\n",
       "      <td>dr nyheder</td>\n",
       "      <td>Bente Jørgensen godt vi ikke lærte det da vi gik i skole, ja at brokke sig</td>\n",
       "      <td>None</td>\n",
       "      <td>2021-03-06</td>\n",
       "      <td>none</td>\n",
       "      <td>NaN</td>\n",
       "      <td>NaN</td>\n",
       "      <td>NaN</td>\n",
       "      <td>0</td>\n",
       "    </tr>\n",
       "    <tr>\n",
       "      <th>2</th>\n",
       "      <td>dr nyheder</td>\n",
       "      <td>Når man har læst om, hvad Bolsenaro har udtalt om homoseksuelle, kvinder, klima og andre ting, kan intet overraske fra den kant. Han får nærmest Trump til at virke venstreorienteret.</td>\n",
       "      <td>None</td>\n",
       "      <td>2021-03-06</td>\n",
       "      <td>none</td>\n",
       "      <td>NaN</td>\n",
       "      <td>NaN</td>\n",
       "      <td>NaN</td>\n",
       "      <td>0</td>\n",
       "    </tr>\n",
       "    <tr>\n",
       "      <th>3</th>\n",
       "      <td>dr nyheder</td>\n",
       "      <td>Bente Kristoffersen det beklager jeg så. Der har blot været så mange kommentarer der har været forstokkede. Lagde faktisk ikke mærke til grinesmileyen før du lige nævner det nu. Håber du får en god dag</td>\n",
       "      <td>None</td>\n",
       "      <td>2021-03-06</td>\n",
       "      <td>none</td>\n",
       "      <td>NaN</td>\n",
       "      <td>NaN</td>\n",
       "      <td>NaN</td>\n",
       "      <td>0</td>\n",
       "    </tr>\n",
       "    <tr>\n",
       "      <th>4</th>\n",
       "      <td>dr nyheder</td>\n",
       "      <td>Mohammad Askar Og bedetæpper</td>\n",
       "      <td>None</td>\n",
       "      <td>2021-03-06</td>\n",
       "      <td>none</td>\n",
       "      <td>NaN</td>\n",
       "      <td>NaN</td>\n",
       "      <td>NaN</td>\n",
       "      <td>0</td>\n",
       "    </tr>\n",
       "  </tbody>\n",
       "</table>\n",
       "</div>"
      ],
      "text/plain": [
       "      account  \\\n",
       "0  dr nyheder   \n",
       "1  dr nyheder   \n",
       "2  dr nyheder   \n",
       "3  dr nyheder   \n",
       "4  dr nyheder   \n",
       "\n",
       "                                                                                                                                                                                                        text  \\\n",
       "0                                                                                                                                                                                         Fatma Kücük Öztürk   \n",
       "1                                                                                                                                 Bente Jørgensen godt vi ikke lærte det da vi gik i skole, ja at brokke sig   \n",
       "2                     Når man har læst om, hvad Bolsenaro har udtalt om homoseksuelle, kvinder, klima og andre ting, kan intet overraske fra den kant. Han får nærmest Trump til at virke venstreorienteret.   \n",
       "3  Bente Kristoffersen det beklager jeg så. Der har blot været så mange kommentarer der har været forstokkede. Lagde faktisk ikke mærke til grinesmileyen før du lige nævner det nu. Håber du får en god dag   \n",
       "4                                                                                                                                                                               Mohammad Askar Og bedetæpper   \n",
       "\n",
       "    url       date action  post_id  comment_id  reply_comment_id  label  \n",
       "0  None 2021-03-06   none      NaN         NaN               NaN      0  \n",
       "1  None 2021-03-06   none      NaN         NaN               NaN      0  \n",
       "2  None 2021-03-06   none      NaN         NaN               NaN      0  \n",
       "3  None 2021-03-06   none      NaN         NaN               NaN      0  \n",
       "4  None 2021-03-06   none      NaN         NaN               NaN      0  "
      ]
     },
     "execution_count": 4,
     "metadata": {},
     "output_type": "execute_result"
    }
   ],
   "source": [
    "ws_df = pd.read_parquet(\"data/processed/data_2022_weakly_supervised.parquet\")\n",
    "ws_df.head()"
   ]
  },
  {
   "cell_type": "code",
   "execution_count": 6,
   "id": "7e090e00-7643-4e67-af47-55df51d03d64",
   "metadata": {},
   "outputs": [
    {
     "data": {
      "text/html": [
       "<div>\n",
       "<style scoped>\n",
       "    .dataframe tbody tr th:only-of-type {\n",
       "        vertical-align: middle;\n",
       "    }\n",
       "\n",
       "    .dataframe tbody tr th {\n",
       "        vertical-align: top;\n",
       "    }\n",
       "\n",
       "    .dataframe thead th {\n",
       "        text-align: right;\n",
       "    }\n",
       "</style>\n",
       "<table border=\"1\" class=\"dataframe\">\n",
       "  <thead>\n",
       "    <tr style=\"text-align: right;\">\n",
       "      <th></th>\n",
       "      <th>account</th>\n",
       "      <th>text</th>\n",
       "      <th>url</th>\n",
       "      <th>date</th>\n",
       "      <th>action</th>\n",
       "      <th>post_id</th>\n",
       "      <th>comment_id</th>\n",
       "      <th>reply_comment_id</th>\n",
       "      <th>label</th>\n",
       "    </tr>\n",
       "  </thead>\n",
       "  <tbody>\n",
       "    <tr>\n",
       "      <th>14</th>\n",
       "      <td>dr nyheder</td>\n",
       "      <td>hvis jeg skulle demonstrer skulle det sku være for klima og ikke med de her idioter</td>\n",
       "      <td>None</td>\n",
       "      <td>2021-03-14</td>\n",
       "      <td>none</td>\n",
       "      <td>NaN</td>\n",
       "      <td>NaN</td>\n",
       "      <td>NaN</td>\n",
       "      <td>1</td>\n",
       "    </tr>\n",
       "    <tr>\n",
       "      <th>68</th>\n",
       "      <td>dr nyheder</td>\n",
       "      <td>Niels Christian Baark er det virkelig sådan et samfund du ønsker at leve i og have dine børn til at opvokse i? Sidst jeg kiggede, var vi et frit demokratisk samfund med ytringsfrihed etc. Men lige nu synes jeg vi kommer nærmere og nærmere østtyske tilstande, hvor folk hentes i deres hjem for at poste et billede af en dukke. Påtvunget en mundble som sundhedsmyndighederne selv har sagt har ringe eller ingen værdi, indskrænket personlig frihed, listen fortsætter og fortsætter... Er dødtræt af forsmåede danskere der ikke tør eller vil stille spørgsmål til alle de idiotiske retningslinier og love der udstikkes i forbindelse med denne influenza lignende sygdom, som på over et år har slået 2400 ihjel med en gennemsnitsalder på over 80 år. Hvor er forbud mod rygning det slår 14000 ihjel om året henne af?</td>\n",
       "      <td>None</td>\n",
       "      <td>2021-04-06</td>\n",
       "      <td>none</td>\n",
       "      <td>NaN</td>\n",
       "      <td>NaN</td>\n",
       "      <td>NaN</td>\n",
       "      <td>1</td>\n",
       "    </tr>\n",
       "    <tr>\n",
       "      <th>89</th>\n",
       "      <td>dr nyheder</td>\n",
       "      <td>det var også lovligt, at slå sine børn og sin kone for ikke ret lang tid siden i danmark, danmark er officielt ikke et udviklingsland, men vi(alle lande er vel i en udvikling) vi(bl.a danske service organer incl folketinget) flueknepper og spilder unødvendige ressourcer på komedier for folket og har glemt, at de skal servicere befolkningen(vel også i global forstand) skabe grundlag for, at kunne se udover sin egen næsetip eller bare på lidt længere sigt ... undskyldningen er ofte økonomisk knaphed og manglede overskud(måske er de på en eller anden måde en sikkerhedsrisiko.. ...), jeg er vel også er risiko ...da jeg ønsker kvalitet og medmenneskelighed, fremfor sikkerhed og nyt .. fremmede er folk jeg bare ikke kender endnu, men vil de fleste mennesker ikke bare være en del af og ikke ødelægge det for andre .. .. vi begår alle fejl og må må tage ansvar for disse, men vi er jo også bare mennesker ... måske kan vi overveje om vi vil, at der er plads til, at andre måske også bidrager, selvom de kommer fra en anden landsby .... eller er vi bare alle sammen på vej ud over afgrunden(det føles lidt trygt, at gøre det sammen) som lemminge i et nyt samtalebadeværelse ;-) også jeg sidder fast med hovedet oppe i røven mens jeg fejler, så jeg skal vel også op til prøven om retten til dansk statborgerskab ... overvejer indimellem, at melde mig ud af danmark og står ikke op for disse såkaldte danske værdier sat op regneark - har vi råd til, at ikke kunne i fællesskab?</td>\n",
       "      <td>None</td>\n",
       "      <td>2021-04-22</td>\n",
       "      <td>none</td>\n",
       "      <td>NaN</td>\n",
       "      <td>NaN</td>\n",
       "      <td>NaN</td>\n",
       "      <td>1</td>\n",
       "    </tr>\n",
       "  </tbody>\n",
       "</table>\n",
       "</div>"
      ],
      "text/plain": [
       "       account  \\\n",
       "14  dr nyheder   \n",
       "68  dr nyheder   \n",
       "89  dr nyheder   \n",
       "\n",
       "                                                                                                                                                                                                                                                                                                                                                                                                                                                                                                                                                                                                                                                                                                                                                                                                                                                                                                                                                                                                                                                                                                                                                                                                                                                                                                                                                                                                                                                                                                                                     text  \\\n",
       "14                                                                                                                                                                                                                                                                                                                                                                                                                                                                                                                                                                                                                                                                                                                                                                                                                                                                                                                                                                                                                                                                                                                                                                                                                                                                                                                                                                                                                                                    hvis jeg skulle demonstrer skulle det sku være for klima og ikke med de her idioter   \n",
       "68                                                                                                                                                                                                                                                                                                                                                                                                                                                                                                                                                                                                                                                                                                Niels Christian Baark er det virkelig sådan et samfund du ønsker at leve i og have dine børn til at opvokse i? Sidst jeg kiggede, var vi et frit demokratisk samfund med ytringsfrihed etc. Men lige nu synes jeg vi kommer nærmere og nærmere østtyske tilstande, hvor folk hentes i deres hjem for at poste et billede af en dukke. Påtvunget en mundble som sundhedsmyndighederne selv har sagt har ringe eller ingen værdi, indskrænket personlig frihed, listen fortsætter og fortsætter... Er dødtræt af forsmåede danskere der ikke tør eller vil stille spørgsmål til alle de idiotiske retningslinier og love der udstikkes i forbindelse med denne influenza lignende sygdom, som på over et år har slået 2400 ihjel med en gennemsnitsalder på over 80 år. Hvor er forbud mod rygning det slår 14000 ihjel om året henne af?   \n",
       "89  det var også lovligt, at slå sine børn og sin kone for ikke ret lang tid siden i danmark, danmark er officielt ikke et udviklingsland, men vi(alle lande er vel i en udvikling) vi(bl.a danske service organer incl folketinget) flueknepper og spilder unødvendige ressourcer på komedier for folket og har glemt, at de skal servicere befolkningen(vel også i global forstand) skabe grundlag for, at kunne se udover sin egen næsetip eller bare på lidt længere sigt ... undskyldningen er ofte økonomisk knaphed og manglede overskud(måske er de på en eller anden måde en sikkerhedsrisiko.. ...), jeg er vel også er risiko ...da jeg ønsker kvalitet og medmenneskelighed, fremfor sikkerhed og nyt .. fremmede er folk jeg bare ikke kender endnu, men vil de fleste mennesker ikke bare være en del af og ikke ødelægge det for andre .. .. vi begår alle fejl og må må tage ansvar for disse, men vi er jo også bare mennesker ... måske kan vi overveje om vi vil, at der er plads til, at andre måske også bidrager, selvom de kommer fra en anden landsby .... eller er vi bare alle sammen på vej ud over afgrunden(det føles lidt trygt, at gøre det sammen) som lemminge i et nyt samtalebadeværelse ;-) også jeg sidder fast med hovedet oppe i røven mens jeg fejler, så jeg skal vel også op til prøven om retten til dansk statborgerskab ... overvejer indimellem, at melde mig ud af danmark og står ikke op for disse såkaldte danske værdier sat op regneark - har vi råd til, at ikke kunne i fællesskab?   \n",
       "\n",
       "     url       date action  post_id  comment_id  reply_comment_id  label  \n",
       "14  None 2021-03-14   none      NaN         NaN               NaN      1  \n",
       "68  None 2021-04-06   none      NaN         NaN               NaN      1  \n",
       "89  None 2021-04-22   none      NaN         NaN               NaN      1  "
      ]
     },
     "execution_count": 6,
     "metadata": {},
     "output_type": "execute_result"
    }
   ],
   "source": [
    "ws_df.query(\"label == 1\").head(3)"
   ]
  }
 ],
 "metadata": {
  "kernelspec": {
   "display_name": "Python 3 (ipykernel)",
   "language": "python",
   "name": "python3"
  },
  "language_info": {
   "codemirror_mode": {
    "name": "ipython",
    "version": 3
   },
   "file_extension": ".py",
   "mimetype": "text/x-python",
   "name": "python",
   "nbconvert_exporter": "python",
   "pygments_lexer": "ipython3",
   "version": "3.8.3"
  }
 },
 "nbformat": 4,
 "nbformat_minor": 5
}
