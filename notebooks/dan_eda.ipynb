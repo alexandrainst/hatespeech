{
 "cells": [
  {
   "cell_type": "code",
   "execution_count": null,
   "id": "6dafec55-51e9-422b-a888-26b926f77d97",
   "metadata": {},
   "outputs": [],
   "source": [
    "%cd ..\n",
    "%reload_ext autoreload\n",
    "%autoreload 2"
   ]
  },
  {
   "cell_type": "code",
   "execution_count": null,
   "id": "ad989f4e-49a2-4bad-a6ac-97d57c28e222",
   "metadata": {},
   "outputs": [],
   "source": [
    "import pandas as pd\n",
    "from transformers import pipeline\n",
    "from src.data import load_data\n",
    "import re\n",
    "\n",
    "pd.set_option(\"max_colwidth\", None)"
   ]
  },
  {
   "cell_type": "markdown",
   "id": "6ab60df4-248d-42fd-a52a-1d704497ae87",
   "metadata": {},
   "source": [
    "## Explore the cleaned data"
   ]
  },
  {
   "cell_type": "code",
   "execution_count": null,
   "id": "9004d420-042c-4969-82e9-2bd2d8330044",
   "metadata": {},
   "outputs": [],
   "source": [
    "df = load_data()\n",
    "print(f\"Loaded {len(df):,} posts.\")\n",
    "df.head(5)"
   ]
  },
  {
   "cell_type": "code",
   "execution_count": null,
   "id": "560b6293-56e9-4e66-b0eb-4b0c30c87ef6",
   "metadata": {
    "tags": []
   },
   "outputs": [],
   "source": [
    "df[df.text.str.contains('[LINK]', regex=False)].sample(frac=1.0).head(50)"
   ]
  },
  {
   "cell_type": "markdown",
   "id": "bf9f36ff-32ce-40c9-a534-ea2db8af45c3",
   "metadata": {},
   "source": [
    "## Explore the weakly supervised labels"
   ]
  },
  {
   "cell_type": "code",
   "execution_count": null,
   "id": "f5758fa2-6363-4a76-81eb-e6fc9ffda02e",
   "metadata": {},
   "outputs": [],
   "source": [
    "ws_df = pd.read_parquet(\"data/processed/data_2022_weakly_supervised.parquet\")\n",
    "ws_df.head()"
   ]
  },
  {
   "cell_type": "code",
   "execution_count": null,
   "id": "7e090e00-7643-4e67-af47-55df51d03d64",
   "metadata": {},
   "outputs": [],
   "source": [
    "ws_df.query(\"label == 1\").head(3)"
   ]
  }
 ],
 "metadata": {
  "kernelspec": {
   "display_name": "Python 3 (ipykernel)",
   "language": "python",
   "name": "python3"
  },
  "language_info": {
   "codemirror_mode": {
    "name": "ipython",
    "version": 3
   },
   "file_extension": ".py",
   "mimetype": "text/x-python",
   "name": "python",
   "nbconvert_exporter": "python",
   "pygments_lexer": "ipython3",
   "version": "3.8.3"
  }
 },
 "nbformat": 4,
 "nbformat_minor": 5
}
