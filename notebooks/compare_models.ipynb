{
 "cells": [
  {
   "cell_type": "code",
   "execution_count": null,
   "id": "59f24e95-13a9-4b59-8e31-6b6aa39d97a2",
   "metadata": {},
   "outputs": [],
   "source": [
    "%cd .."
   ]
  },
  {
   "cell_type": "code",
   "execution_count": null,
   "id": "3b9d4155-29a5-4603-a091-84e53bf2c40a",
   "metadata": {},
   "outputs": [],
   "source": [
    "from sklearn.metrics import cohen_kappa_score\n",
    "import numpy as np\n",
    "import pandas as pd\n",
    "from pathlib import Path\n",
    "from transformers import AutoTokenizer, AutoModelForSequenceClassification\n",
    "import torch\n",
    "from tqdm.auto import tqdm\n",
    "from sklearn.metrics import recall_score, precision_score, f1_score\n",
    "import nltk\n",
    "from src.dr_hatespeech.attack import load_attack\n",
    "nltk.download('punkt')\n",
    "pd.set_option('max_colwidth', None)\n",
    "pd.set_option('max_rows', 200)"
   ]
  },
  {
   "cell_type": "markdown",
   "id": "31213ff3-d10f-49d6-8e00-34963f59da14",
   "metadata": {
    "tags": []
   },
   "source": [
    "## Load data and models"
   ]
  },
  {
   "cell_type": "code",
   "execution_count": null,
   "id": "4f9a3315-4ae0-4ee6-bd78-c6f5c6685a88",
   "metadata": {},
   "outputs": [],
   "source": [
    "val_df = pd.read_parquet(\"data/final/val-off.parquet\")\n",
    "val_df.head()"
   ]
  },
  {
   "cell_type": "code",
   "execution_count": null,
   "id": "a6caadf0-cb0b-49ff-8771-448676e4faa0",
   "metadata": {},
   "outputs": [],
   "source": [
    "danlp_tok = AutoTokenizer.from_pretrained('DaNLP/da-electra-hatespeech-detection')\n",
    "danlp_model = AutoModelForSequenceClassification.from_pretrained('DaNLP/da-electra-hatespeech-detection')"
   ]
  },
  {
   "cell_type": "code",
   "execution_count": null,
   "id": "b809a795-5945-44ac-80d4-e1e9419dbb4d",
   "metadata": {},
   "outputs": [],
   "source": [
    "attack_tok, attack_model = load_attack()"
   ]
  },
  {
   "cell_type": "markdown",
   "id": "836affe4-9c13-43f3-958d-69021cf7ea7d",
   "metadata": {
    "tags": []
   },
   "source": [
    "## Run models on dataset"
   ]
  },
  {
   "cell_type": "code",
   "execution_count": null,
   "id": "837d6143-1e19-4565-a0c2-e544c8ce90b1",
   "metadata": {},
   "outputs": [],
   "source": [
    "def get_logits(text: str, tok, model) -> torch.Tensor:\n",
    "    if tok.model_max_length > 100_000:\n",
    "        tok.model_max_length = 512\n",
    "    toks = tok(text, return_tensors='pt', truncation=True, padding=True)\n",
    "    with torch.no_grad():\n",
    "        logits = model(input_ids=toks[\"input_ids\"], attention_mask=toks[\"attention_mask\"])[0]\n",
    "    if len(logits.shape) == 2:\n",
    "        logits = logits[0]\n",
    "    return logits[-1]"
   ]
  },
  {
   "cell_type": "code",
   "execution_count": null,
   "id": "923f6ffa-2802-436f-ac33-a69de9d78598",
   "metadata": {},
   "outputs": [],
   "source": [
    "danlp_preds = torch.stack([\n",
    "    get_logits(doc, danlp_tok, danlp_model) for doc in tqdm(val_df.text, leave=False)\n",
    "]) > 0\n",
    "val_df[\"danlp_preds\"] = danlp_preds\n",
    "val_df.head()"
   ]
  },
  {
   "cell_type": "code",
   "execution_count": null,
   "id": "161173d5-92f1-41ef-8b37-c51b7ebd6b67",
   "metadata": {},
   "outputs": [],
   "source": [
    "attack_preds = torch.stack([\n",
    "    get_logits(doc, attack_tok, attack_model) for doc in tqdm(val_df.text, leave=False)\n",
    "]) > 0\n",
    "val_df[\"attack_preds\"] = attack_preds\n",
    "val_df.head()"
   ]
  },
  {
   "cell_type": "markdown",
   "id": "455d8d1e-7432-430d-9981-4bf07e9f8e27",
   "metadata": {},
   "source": [
    "## Compare models"
   ]
  },
  {
   "cell_type": "code",
   "execution_count": null,
   "id": "1fd03304-a299-4f93-8516-89989003d726",
   "metadata": {},
   "outputs": [],
   "source": [
    "disagreement_df = val_df.copy()\n",
    "disagreement_df.label = disagreement_df.label.map({\"Not offensive\": False, \"Offensive\": True})\n",
    "disagreement_df = disagreement_df.query(\"danlp_preds != attack_preds\")\n",
    "disagreement_df.head()"
   ]
  },
  {
   "cell_type": "code",
   "execution_count": null,
   "id": "2816b4e5-ae5e-4e56-80c7-375e94dab9a8",
   "metadata": {},
   "outputs": [],
   "source": [
    "disagreement_df.query(\"danlp_preds != label\").label.value_counts()"
   ]
  },
  {
   "cell_type": "code",
   "execution_count": null,
   "id": "5d127b3b-19b3-4952-95ba-9410a92b0541",
   "metadata": {},
   "outputs": [],
   "source": [
    "disagreement_df.query(\"danlp_preds != label\")"
   ]
  },
  {
   "cell_type": "code",
   "execution_count": null,
   "id": "1689ecc3-654f-4906-b4f9-d82dd1823d8f",
   "metadata": {},
   "outputs": [],
   "source": [
    "disagreement_df.query(\"attack_preds != label\").label.value_counts()"
   ]
  },
  {
   "cell_type": "code",
   "execution_count": null,
   "id": "e486fece-fcc6-4ebe-91dc-e2ba8dc36a7b",
   "metadata": {},
   "outputs": [],
   "source": [
    "disagreement_df.query(\"attack_preds != label\")"
   ]
  },
  {
   "cell_type": "code",
   "execution_count": null,
   "id": "90bafbb7-2c92-420d-a942-fe083f3ac0d3",
   "metadata": {},
   "outputs": [],
   "source": []
  }
 ],
 "metadata": {
  "kernelspec": {
   "display_name": "Python 3 (ipykernel)",
   "language": "python",
   "name": "python3"
  },
  "language_info": {
   "codemirror_mode": {
    "name": "ipython",
    "version": 3
   },
   "file_extension": ".py",
   "mimetype": "text/x-python",
   "name": "python",
   "nbconvert_exporter": "python",
   "pygments_lexer": "ipython3",
   "version": "3.8.9"
  }
 },
 "nbformat": 4,
 "nbformat_minor": 5
}
